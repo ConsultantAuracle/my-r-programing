{
  "nbformat": 4,
  "nbformat_minor": 0,
  "metadata": {
    "colab": {
      "provenance": [],
      "authorship_tag": "ABX9TyMvpFDSPCkJ626+IVtyq/9l",
      "include_colab_link": true
    },
    "kernelspec": {
      "name": "ir",
      "display_name": "R"
    },
    "language_info": {
      "name": "R"
    }
  },
  "cells": [
    {
      "cell_type": "markdown",
      "metadata": {
        "id": "view-in-github",
        "colab_type": "text"
      },
      "source": [
        "<a href=\"https://colab.research.google.com/github/ConsultantAuracle/my-r-programing/blob/main/My_R_Programming.ipynb\" target=\"_parent\"><img src=\"https://colab.research.google.com/assets/colab-badge.svg\" alt=\"Open In Colab\"/></a>"
      ]
    },
    {
      "cell_type": "code",
      "execution_count": null,
      "metadata": {
        "colab": {
          "base_uri": "https://localhost:8080/",
          "height": 34
        },
        "id": "Y17Nt7ZjpqFc",
        "outputId": "491b89ea-0d30-4992-9a86-b99abc87f34b"
      },
      "outputs": [
        {
          "output_type": "display_data",
          "data": {
            "text/html": [
              "7"
            ],
            "text/markdown": "7",
            "text/latex": "7",
            "text/plain": [
              "[1] 7"
            ]
          },
          "metadata": {}
        }
      ],
      "source": [
        "5+2"
      ]
    },
    {
      "cell_type": "code",
      "source": [
        "10/2"
      ],
      "metadata": {
        "colab": {
          "base_uri": "https://localhost:8080/",
          "height": 34
        },
        "id": "rJLvyC-JpuSB",
        "outputId": "f7e5f3bf-9c88-4bad-d15e-499a00c6575c"
      },
      "execution_count": null,
      "outputs": [
        {
          "output_type": "display_data",
          "data": {
            "text/html": [
              "5"
            ],
            "text/markdown": "5",
            "text/latex": "5",
            "text/plain": [
              "[1] 5"
            ]
          },
          "metadata": {}
        }
      ]
    },
    {
      "cell_type": "code",
      "source": [
        "sqrt(36)"
      ],
      "metadata": {
        "colab": {
          "base_uri": "https://localhost:8080/",
          "height": 34
        },
        "id": "plteM372q5D9",
        "outputId": "3cf7e52c-9bf3-4ef7-a164-e0b6b0d423e5"
      },
      "execution_count": null,
      "outputs": [
        {
          "output_type": "display_data",
          "data": {
            "text/html": [
              "6"
            ],
            "text/markdown": "6",
            "text/latex": "6",
            "text/plain": [
              "[1] 6"
            ]
          },
          "metadata": {}
        }
      ]
    },
    {
      "cell_type": "code",
      "source": [
        "10 ^ 2"
      ],
      "metadata": {
        "colab": {
          "base_uri": "https://localhost:8080/",
          "height": 34
        },
        "id": "vw_h62RgrfyQ",
        "outputId": "3d972c6d-4770-43c9-a19f-0ceb939d7ed0"
      },
      "execution_count": null,
      "outputs": [
        {
          "output_type": "display_data",
          "data": {
            "text/html": [
              "100"
            ],
            "text/markdown": "100",
            "text/latex": "100",
            "text/plain": [
              "[1] 100"
            ]
          },
          "metadata": {}
        }
      ]
    },
    {
      "cell_type": "code",
      "source": [
        "10-5"
      ],
      "metadata": {
        "colab": {
          "base_uri": "https://localhost:8080/",
          "height": 34
        },
        "id": "cSwoE2uMs9kp",
        "outputId": "7305f56d-85df-4f51-b02c-701382c3b945"
      },
      "execution_count": null,
      "outputs": [
        {
          "output_type": "display_data",
          "data": {
            "text/html": [
              "5"
            ],
            "text/markdown": "5",
            "text/latex": "5",
            "text/plain": [
              "[1] 5"
            ]
          },
          "metadata": {}
        }
      ]
    },
    {
      "cell_type": "code",
      "source": [
        "100+50\n",
        "50/2\n",
        "sqrt(81)"
      ],
      "metadata": {
        "id": "ol2ZjVzwtHYN"
      },
      "execution_count": null,
      "outputs": []
    },
    {
      "cell_type": "code",
      "source": [
        "#Creating and Assigning Variables\n",
        "Age <- 25  # Numeric - integers, decimals (Numbers) etc\n",
        "Name <- \"Thomas\" # Character (Text or strings)\n",
        "School <- \"University of Ibadan\" #Charcter (Text or strings)\n",
        "X <- TRUE # Logical"
      ],
      "metadata": {
        "id": "QARp3_f2VK6j"
      },
      "execution_count": null,
      "outputs": []
    },
    {
      "cell_type": "code",
      "source": [
        "#Vectors and Basic Vector Operations\n",
        "# vector of prices\n",
        "prices <- c(200, 500, 1000, 1500, 2000)\n",
        "\n",
        "# vector of names\n",
        "names <- c(\"Samuel\", \"Queenbeccah\", \"Temitope\", \"Akinjide\")\n",
        "\n",
        "#print the prices\n",
        "print(prices)\n",
        "print(names)"
      ],
      "metadata": {
        "colab": {
          "base_uri": "https://localhost:8080/"
        },
        "id": "e_mIQB3-VPx0",
        "outputId": "cefa5e79-067f-4deb-8d10-eef45aa6217d"
      },
      "execution_count": 1,
      "outputs": [
        {
          "output_type": "stream",
          "name": "stdout",
          "text": [
            "[1]  200  500 1000 1500 2000\n",
            "[1] \"Samuel\"      \"Queenbeccah\" \"Temitope\"    \"Akinjide\"   \n"
          ]
        }
      ]
    },
    {
      "cell_type": "code",
      "source": [
        "mean(prices)\n",
        "sum(prices)"
      ],
      "metadata": {
        "colab": {
          "base_uri": "https://localhost:8080/",
          "height": 52
        },
        "id": "FTgc4gvnBrln",
        "outputId": "6386d38e-9b9b-4be1-9086-b23bbbc09d52"
      },
      "execution_count": 4,
      "outputs": [
        {
          "output_type": "display_data",
          "data": {
            "text/html": [
              "1040"
            ],
            "text/markdown": "1040",
            "text/latex": "1040",
            "text/plain": [
              "[1] 1040"
            ]
          },
          "metadata": {}
        },
        {
          "output_type": "display_data",
          "data": {
            "text/html": [
              "5200"
            ],
            "text/markdown": "5200",
            "text/latex": "5200",
            "text/plain": [
              "[1] 5200"
            ]
          },
          "metadata": {}
        }
      ]
    },
    {
      "cell_type": "code",
      "source": [
        "#Assign the following scores of students 50, 65, 70, 80, 75\n",
        "#print out the scores\n",
        "#find the mean of the scores\n",
        "#find the median of the scores\n",
        "#find the sum of the scores"
      ],
      "metadata": {
        "id": "vC96VEb0ATzQ"
      },
      "execution_count": null,
      "outputs": []
    },
    {
      "cell_type": "code",
      "source": [
        "scores <- c(50, 65, 70, 80, 75)\n",
        "print(scores)\n",
        "mean(scores)\n",
        "median(scores)\n",
        "sum (scores)"
      ],
      "metadata": {
        "colab": {
          "base_uri": "https://localhost:8080/",
          "height": 86
        },
        "id": "iXRb-JtWAVaV",
        "outputId": "7e163651-f108-4deb-b043-d779b087e28d"
      },
      "execution_count": 3,
      "outputs": [
        {
          "output_type": "stream",
          "name": "stdout",
          "text": [
            "[1] 50 65 70 80 75\n"
          ]
        },
        {
          "output_type": "display_data",
          "data": {
            "text/html": [
              "68"
            ],
            "text/markdown": "68",
            "text/latex": "68",
            "text/plain": [
              "[1] 68"
            ]
          },
          "metadata": {}
        },
        {
          "output_type": "display_data",
          "data": {
            "text/html": [
              "70"
            ],
            "text/markdown": "70",
            "text/latex": "70",
            "text/plain": [
              "[1] 70"
            ]
          },
          "metadata": {}
        },
        {
          "output_type": "display_data",
          "data": {
            "text/html": [
              "340"
            ],
            "text/markdown": "340",
            "text/latex": "340",
            "text/plain": [
              "[1] 340"
            ]
          },
          "metadata": {}
        }
      ]
    }
  ]
}