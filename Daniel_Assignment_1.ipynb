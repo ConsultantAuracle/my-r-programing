{
  "nbformat": 4,
  "nbformat_minor": 0,
  "metadata": {
    "colab": {
      "provenance": [],
      "authorship_tag": "ABX9TyNSGSVDv0dQGDkyH0Fcc2qq",
      "include_colab_link": true
    },
    "kernelspec": {
      "name": "ir",
      "display_name": "R"
    },
    "language_info": {
      "name": "R"
    }
  },
  "cells": [
    {
      "cell_type": "markdown",
      "metadata": {
        "id": "view-in-github",
        "colab_type": "text"
      },
      "source": [
        "<a href=\"https://colab.research.google.com/github/ConsultantAuracle/my-r-programing/blob/main/Daniel_Assignment_1.ipynb\" target=\"_parent\"><img src=\"https://colab.research.google.com/assets/colab-badge.svg\" alt=\"Open In Colab\"/></a>"
      ]
    },
    {
      "cell_type": "code",
      "execution_count": null,
      "metadata": {
        "id": "r9f8nA0dN9_8"
      },
      "outputs": [],
      "source": [
        "#Assignment\n",
        "\n",
        "#Assign the following numbers 10,20,30 to x,y, and z\n",
        "x = 10 #Assign x to 10\n",
        "y = 20 #Assign y to 20\n",
        "z = 30 #Assign z to 30\n",
        "\n",
        "\n",
        "#Find the addition of x and y; x and z; y and z\n",
        "A = sum(x+y)\n",
        "print (A)\n",
        "\n",
        "B = sum(x+z)\n",
        "print(B)\n",
        "\n",
        "print(A+B)\n",
        "\n",
        "C = sum(y+z)\n",
        "print(C)\n",
        "#Find the division of the following; y/z, z/x\n",
        "D = (y/z)\n",
        "print(D)\n",
        "\n",
        "E = (z/x)\n",
        "print(E)\n",
        "\n",
        "#Find the sum of x,y, and z\n",
        "\n",
        "#assign each of the answers to a variable"
      ]
    },
    {
      "cell_type": "code",
      "source": [
        "x = 10\n",
        "y = 20\n",
        "z = 30\n",
        "\n",
        "A = sum(x+y)\n",
        "print (A)\n",
        "\n",
        "B = sum(x+z)\n",
        "print(B)\n",
        "\n",
        "print(A+B)\n",
        "\n",
        "C = sum(y+z)\n",
        "print(C)\n",
        "#Find the division of the following; y/z, z/x\n",
        "D = (y/z)\n",
        "print(D)\n",
        "\n",
        "E = (z/x)\n",
        "print(E)"
      ],
      "metadata": {
        "colab": {
          "base_uri": "https://localhost:8080/"
        },
        "id": "ocO6VYuFOW8B",
        "outputId": "8f2f2a59-8055-41b8-e713-86eb418093b0"
      },
      "execution_count": 2,
      "outputs": [
        {
          "output_type": "stream",
          "name": "stdout",
          "text": [
            "[1] 30\n",
            "[1] 40\n",
            "[1] 70\n",
            "[1] 50\n",
            "[1] 0.6666667\n",
            "[1] 3\n"
          ]
        }
      ]
    },
    {
      "cell_type": "code",
      "source": [
        "F<-(x+y+z)\n",
        "print(F)"
      ],
      "metadata": {
        "colab": {
          "base_uri": "https://localhost:8080/"
        },
        "id": "l6hLu1npEVmx",
        "outputId": "33f4e6d3-209f-4777-ccdc-3662f86e46ae"
      },
      "execution_count": 4,
      "outputs": [
        {
          "output_type": "stream",
          "name": "stdout",
          "text": [
            "[1] 60\n"
          ]
        }
      ]
    }
  ]
}