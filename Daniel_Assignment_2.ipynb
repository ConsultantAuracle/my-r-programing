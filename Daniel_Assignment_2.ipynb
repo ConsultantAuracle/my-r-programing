{
  "nbformat": 4,
  "nbformat_minor": 0,
  "metadata": {
    "colab": {
      "provenance": [],
      "authorship_tag": "ABX9TyMsgYi46lLsSsfk9OypNdg2",
      "include_colab_link": true
    },
    "kernelspec": {
      "name": "ir",
      "display_name": "R"
    },
    "language_info": {
      "name": "R"
    }
  },
  "cells": [
    {
      "cell_type": "markdown",
      "metadata": {
        "id": "view-in-github",
        "colab_type": "text"
      },
      "source": [
        "<a href=\"https://colab.research.google.com/github/ConsultantAuracle/my-r-programing/blob/main/Daniel_Assignment_2.ipynb\" target=\"_parent\"><img src=\"https://colab.research.google.com/assets/colab-badge.svg\" alt=\"Open In Colab\"/></a>"
      ]
    },
    {
      "cell_type": "code",
      "execution_count": null,
      "metadata": {
        "id": "nBwmMAYTS-lT"
      },
      "outputs": [],
      "source": [
        "#Assignment\n",
        "#Access the variables of all participants except gender and name\n",
        "#Access the data for the 5th row\n",
        "#Access the data for the 2nd row and 3rd column\n",
        "\n"
      ]
    },
    {
      "cell_type": "code",
      "source": [
        "participants <- data.frame(\n",
        "    name = c(\"KOB\", \"Temitope\", \"Kehinde\", \"Kunle\", \"Queenbeccah\", \"Samuel\"),\n",
        "    Gender = c(\"Male\", \"Female\", \"Female\", \"Male\", \"Female\", \"Male\"),\n",
        "    Age = c(15, 25, 10, 5, 30, 28),\n",
        "    Height = c(75, 63, 45, 63, 72, 12),\n",
        "    Weight = c(75, 60, 24, 59, 90, 11),\n",
        "    MS = c(\"M\", \"M\", \"M\", \"M\", \"M\", \"S\"),\n",
        "    SZ = c(6, 8, 12, 6, 8, 10),\n",
        "    Etinicity = c(\"African\", \"Asian\", \"African\", \"African\", \"African\", \"African\")\n",
        ")\n",
        "\n",
        "print(participants)"
      ],
      "metadata": {
        "colab": {
          "base_uri": "https://localhost:8080/"
        },
        "id": "pBRFp7EPTIj6",
        "outputId": "7cc4458c-8c9f-44bd-c4ae-f3370dc9e0ba"
      },
      "execution_count": 1,
      "outputs": [
        {
          "output_type": "stream",
          "name": "stdout",
          "text": [
            "         name Gender Age Height Weight MS SZ Etinicity\n",
            "1         KOB   Male  15     75     75  M  6   African\n",
            "2    Temitope Female  25     63     60  M  8     Asian\n",
            "3     Kehinde Female  10     45     24  M 12   African\n",
            "4       Kunle   Male   5     63     59  M  6   African\n",
            "5 Queenbeccah Female  30     72     90  M  8   African\n",
            "6      Samuel   Male  28     12     11  S 10   African\n"
          ]
        }
      ]
    },
    {
      "cell_type": "code",
      "source": [
        "#Access the variables of all participants except gender and name\n",
        "#Access the variables of all participants age\n",
        "participants$Age"
      ],
      "metadata": {
        "colab": {
          "base_uri": "https://localhost:8080/",
          "height": 34
        },
        "id": "KTEbZo4xTX-z",
        "outputId": "4906fc2d-45a7-4a07-8b68-23323c3e8423"
      },
      "execution_count": 8,
      "outputs": [
        {
          "output_type": "display_data",
          "data": {
            "text/html": [
              "<style>\n",
              ".list-inline {list-style: none; margin:0; padding: 0}\n",
              ".list-inline>li {display: inline-block}\n",
              ".list-inline>li:not(:last-child)::after {content: \"\\00b7\"; padding: 0 .5ex}\n",
              "</style>\n",
              "<ol class=list-inline><li>15</li><li>25</li><li>10</li><li>5</li><li>30</li><li>28</li></ol>\n"
            ],
            "text/markdown": "1. 15\n2. 25\n3. 10\n4. 5\n5. 30\n6. 28\n\n\n",
            "text/latex": "\\begin{enumerate*}\n\\item 15\n\\item 25\n\\item 10\n\\item 5\n\\item 30\n\\item 28\n\\end{enumerate*}\n",
            "text/plain": [
              "[1] 15 25 10  5 30 28"
            ]
          },
          "metadata": {}
        }
      ]
    },
    {
      "cell_type": "code",
      "source": [
        "#Access the variables of all participants height\n",
        "participants$Height"
      ],
      "metadata": {
        "colab": {
          "base_uri": "https://localhost:8080/",
          "height": 34
        },
        "id": "baMp2un9U5RF",
        "outputId": "c396a7c8-0fce-4a81-9ece-5ef16b835b78"
      },
      "execution_count": 9,
      "outputs": [
        {
          "output_type": "display_data",
          "data": {
            "text/html": [
              "<style>\n",
              ".list-inline {list-style: none; margin:0; padding: 0}\n",
              ".list-inline>li {display: inline-block}\n",
              ".list-inline>li:not(:last-child)::after {content: \"\\00b7\"; padding: 0 .5ex}\n",
              "</style>\n",
              "<ol class=list-inline><li>75</li><li>63</li><li>45</li><li>63</li><li>72</li><li>12</li></ol>\n"
            ],
            "text/markdown": "1. 75\n2. 63\n3. 45\n4. 63\n5. 72\n6. 12\n\n\n",
            "text/latex": "\\begin{enumerate*}\n\\item 75\n\\item 63\n\\item 45\n\\item 63\n\\item 72\n\\item 12\n\\end{enumerate*}\n",
            "text/plain": [
              "[1] 75 63 45 63 72 12"
            ]
          },
          "metadata": {}
        }
      ]
    },
    {
      "cell_type": "code",
      "source": [
        "#Access the variables of all participants weight\n",
        "participants$Weight"
      ],
      "metadata": {
        "colab": {
          "base_uri": "https://localhost:8080/",
          "height": 34
        },
        "id": "ZLJS0rOBVAfu",
        "outputId": "6ca34557-67cb-477a-a48e-b1a273717994"
      },
      "execution_count": 11,
      "outputs": [
        {
          "output_type": "display_data",
          "data": {
            "text/html": [
              "<style>\n",
              ".list-inline {list-style: none; margin:0; padding: 0}\n",
              ".list-inline>li {display: inline-block}\n",
              ".list-inline>li:not(:last-child)::after {content: \"\\00b7\"; padding: 0 .5ex}\n",
              "</style>\n",
              "<ol class=list-inline><li>75</li><li>60</li><li>24</li><li>59</li><li>90</li><li>11</li></ol>\n"
            ],
            "text/markdown": "1. 75\n2. 60\n3. 24\n4. 59\n5. 90\n6. 11\n\n\n",
            "text/latex": "\\begin{enumerate*}\n\\item 75\n\\item 60\n\\item 24\n\\item 59\n\\item 90\n\\item 11\n\\end{enumerate*}\n",
            "text/plain": [
              "[1] 75 60 24 59 90 11"
            ]
          },
          "metadata": {}
        }
      ]
    },
    {
      "cell_type": "code",
      "source": [
        "#Access the variables of all participants marriage status\n",
        "participants$MS"
      ],
      "metadata": {
        "colab": {
          "base_uri": "https://localhost:8080/",
          "height": 34
        },
        "id": "dI-ByYhpVPRf",
        "outputId": "e3be5208-ee20-401c-c8bb-736f15c933d9"
      },
      "execution_count": 12,
      "outputs": [
        {
          "output_type": "display_data",
          "data": {
            "text/html": [
              "<style>\n",
              ".list-inline {list-style: none; margin:0; padding: 0}\n",
              ".list-inline>li {display: inline-block}\n",
              ".list-inline>li:not(:last-child)::after {content: \"\\00b7\"; padding: 0 .5ex}\n",
              "</style>\n",
              "<ol class=list-inline><li>'M'</li><li>'M'</li><li>'M'</li><li>'M'</li><li>'M'</li><li>'S'</li></ol>\n"
            ],
            "text/markdown": "1. 'M'\n2. 'M'\n3. 'M'\n4. 'M'\n5. 'M'\n6. 'S'\n\n\n",
            "text/latex": "\\begin{enumerate*}\n\\item 'M'\n\\item 'M'\n\\item 'M'\n\\item 'M'\n\\item 'M'\n\\item 'S'\n\\end{enumerate*}\n",
            "text/plain": [
              "[1] \"M\" \"M\" \"M\" \"M\" \"M\" \"S\""
            ]
          },
          "metadata": {}
        }
      ]
    },
    {
      "cell_type": "code",
      "source": [
        "#Access the variables of all participants ethnicity\n",
        "participants$Etinicity"
      ],
      "metadata": {
        "colab": {
          "base_uri": "https://localhost:8080/",
          "height": 34
        },
        "id": "KPBImL7iVTNN",
        "outputId": "90b3f0e9-d124-4c13-da96-ef6f6178a136"
      },
      "execution_count": 13,
      "outputs": [
        {
          "output_type": "display_data",
          "data": {
            "text/html": [
              "<style>\n",
              ".list-inline {list-style: none; margin:0; padding: 0}\n",
              ".list-inline>li {display: inline-block}\n",
              ".list-inline>li:not(:last-child)::after {content: \"\\00b7\"; padding: 0 .5ex}\n",
              "</style>\n",
              "<ol class=list-inline><li>'African'</li><li>'Asian'</li><li>'African'</li><li>'African'</li><li>'African'</li><li>'African'</li></ol>\n"
            ],
            "text/markdown": "1. 'African'\n2. 'Asian'\n3. 'African'\n4. 'African'\n5. 'African'\n6. 'African'\n\n\n",
            "text/latex": "\\begin{enumerate*}\n\\item 'African'\n\\item 'Asian'\n\\item 'African'\n\\item 'African'\n\\item 'African'\n\\item 'African'\n\\end{enumerate*}\n",
            "text/plain": [
              "[1] \"African\" \"Asian\"   \"African\" \"African\" \"African\" \"African\""
            ]
          },
          "metadata": {}
        }
      ]
    },
    {
      "cell_type": "code",
      "source": [
        "#Access the variables of all participants shoe size\n",
        "participants$SZ"
      ],
      "metadata": {
        "colab": {
          "base_uri": "https://localhost:8080/",
          "height": 34
        },
        "id": "rsxVgdrcVW5D",
        "outputId": "49547701-a8bd-411c-f8b5-d6ae083fab0f"
      },
      "execution_count": 14,
      "outputs": [
        {
          "output_type": "display_data",
          "data": {
            "text/html": [
              "<style>\n",
              ".list-inline {list-style: none; margin:0; padding: 0}\n",
              ".list-inline>li {display: inline-block}\n",
              ".list-inline>li:not(:last-child)::after {content: \"\\00b7\"; padding: 0 .5ex}\n",
              "</style>\n",
              "<ol class=list-inline><li>6</li><li>8</li><li>12</li><li>6</li><li>8</li><li>10</li></ol>\n"
            ],
            "text/markdown": "1. 6\n2. 8\n3. 12\n4. 6\n5. 8\n6. 10\n\n\n",
            "text/latex": "\\begin{enumerate*}\n\\item 6\n\\item 8\n\\item 12\n\\item 6\n\\item 8\n\\item 10\n\\end{enumerate*}\n",
            "text/plain": [
              "[1]  6  8 12  6  8 10"
            ]
          },
          "metadata": {}
        }
      ]
    },
    {
      "cell_type": "code",
      "source": [
        "#Access the data for the 5th row\n",
        "participants[5,]"
      ],
      "metadata": {
        "colab": {
          "base_uri": "https://localhost:8080/",
          "height": 129
        },
        "id": "pfH01PW6UhkM",
        "outputId": "b53e0de7-4570-4a12-bf9a-09b559f01bf5"
      },
      "execution_count": 7,
      "outputs": [
        {
          "output_type": "display_data",
          "data": {
            "text/html": [
              "<table class=\"dataframe\">\n",
              "<caption>A data.frame: 1 × 8</caption>\n",
              "<thead>\n",
              "\t<tr><th></th><th scope=col>name</th><th scope=col>Gender</th><th scope=col>Age</th><th scope=col>Height</th><th scope=col>Weight</th><th scope=col>MS</th><th scope=col>SZ</th><th scope=col>Etinicity</th></tr>\n",
              "\t<tr><th></th><th scope=col>&lt;chr&gt;</th><th scope=col>&lt;chr&gt;</th><th scope=col>&lt;dbl&gt;</th><th scope=col>&lt;dbl&gt;</th><th scope=col>&lt;dbl&gt;</th><th scope=col>&lt;chr&gt;</th><th scope=col>&lt;dbl&gt;</th><th scope=col>&lt;chr&gt;</th></tr>\n",
              "</thead>\n",
              "<tbody>\n",
              "\t<tr><th scope=row>5</th><td>Queenbeccah</td><td>Female</td><td>30</td><td>72</td><td>90</td><td>M</td><td>8</td><td>African</td></tr>\n",
              "</tbody>\n",
              "</table>\n"
            ],
            "text/markdown": "\nA data.frame: 1 × 8\n\n| <!--/--> | name &lt;chr&gt; | Gender &lt;chr&gt; | Age &lt;dbl&gt; | Height &lt;dbl&gt; | Weight &lt;dbl&gt; | MS &lt;chr&gt; | SZ &lt;dbl&gt; | Etinicity &lt;chr&gt; |\n|---|---|---|---|---|---|---|---|---|\n| 5 | Queenbeccah | Female | 30 | 72 | 90 | M | 8 | African |\n\n",
            "text/latex": "A data.frame: 1 × 8\n\\begin{tabular}{r|llllllll}\n  & name & Gender & Age & Height & Weight & MS & SZ & Etinicity\\\\\n  & <chr> & <chr> & <dbl> & <dbl> & <dbl> & <chr> & <dbl> & <chr>\\\\\n\\hline\n\t5 & Queenbeccah & Female & 30 & 72 & 90 & M & 8 & African\\\\\n\\end{tabular}\n",
            "text/plain": [
              "  name        Gender Age Height Weight MS SZ Etinicity\n",
              "5 Queenbeccah Female 30  72     90     M  8  African  "
            ]
          },
          "metadata": {}
        }
      ]
    },
    {
      "cell_type": "code",
      "source": [
        "#Access the data for the 2nd row and 3rd column\n",
        "participants[2,3]"
      ],
      "metadata": {
        "colab": {
          "base_uri": "https://localhost:8080/",
          "height": 34
        },
        "id": "4eOelW-wV-_s",
        "outputId": "cab7e166-b143-4b33-fd71-e714ad9bd48e"
      },
      "execution_count": 15,
      "outputs": [
        {
          "output_type": "display_data",
          "data": {
            "text/html": [
              "25"
            ],
            "text/markdown": "25",
            "text/latex": "25",
            "text/plain": [
              "[1] 25"
            ]
          },
          "metadata": {}
        }
      ]
    },
    {
      "cell_type": "code",
      "source": [
        "#Use dataframe to organized the animals (5) include names, fruits, foods, and habitat\n",
        "#print your the outcome\n",
        "#Access the data for the 1st, 3rd, and 5th animal\n",
        "#play with the data"
      ],
      "metadata": {
        "id": "_AZmuG_mTHFc"
      },
      "execution_count": null,
      "outputs": []
    },
    {
      "cell_type": "code",
      "source": [
        "#Use dataframe to organized the animals (5) include names, fruits, foods, and habitat\n",
        "#print your the outcome\n",
        "animals <- data.frame (\n",
        "  names = c(\"monkey\", \"elephant\",\"bear\",\"parrot\", \"deer\"),\n",
        "  fruits= c(\"banana\", \"mango\",\"blueberry\", \"guava\", \"apple\"),\n",
        "  food= c(\"insect\", \"grass\", \"fish\", \"seed\",\"grass\"),\n",
        "  habitat= c(\"jungle\", \"savannah\", \"mountain\", \"forest\", \"meadows\")\n",
        ")\n",
        "print(animals)"
      ],
      "metadata": {
        "colab": {
          "base_uri": "https://localhost:8080/"
        },
        "id": "2o7WrxVVWx8i",
        "outputId": "c0e8d872-42ed-41f8-d4b2-ad5d386ec1f2"
      },
      "execution_count": 17,
      "outputs": [
        {
          "output_type": "stream",
          "name": "stdout",
          "text": [
            "     names    fruits   food  habitat\n",
            "1   monkey    banana insect   jungle\n",
            "2 elephant     mango  grass savannah\n",
            "3     bear blueberry   fish mountain\n",
            "4   parrot     guava   seed   forest\n",
            "5     deer     apple  grass  meadows\n"
          ]
        }
      ]
    },
    {
      "cell_type": "code",
      "source": [
        "#Access the data for the 1st, 3rd, and 5th animal\n",
        "animals[1,]"
      ],
      "metadata": {
        "colab": {
          "base_uri": "https://localhost:8080/",
          "height": 129
        },
        "id": "VuHSjJ9wWH00",
        "outputId": "65fd5714-64ad-4ca6-de8b-63ae38552465"
      },
      "execution_count": 18,
      "outputs": [
        {
          "output_type": "display_data",
          "data": {
            "text/html": [
              "<table class=\"dataframe\">\n",
              "<caption>A data.frame: 1 × 4</caption>\n",
              "<thead>\n",
              "\t<tr><th></th><th scope=col>names</th><th scope=col>fruits</th><th scope=col>food</th><th scope=col>habitat</th></tr>\n",
              "\t<tr><th></th><th scope=col>&lt;chr&gt;</th><th scope=col>&lt;chr&gt;</th><th scope=col>&lt;chr&gt;</th><th scope=col>&lt;chr&gt;</th></tr>\n",
              "</thead>\n",
              "<tbody>\n",
              "\t<tr><th scope=row>1</th><td>monkey</td><td>banana</td><td>insect</td><td>jungle</td></tr>\n",
              "</tbody>\n",
              "</table>\n"
            ],
            "text/markdown": "\nA data.frame: 1 × 4\n\n| <!--/--> | names &lt;chr&gt; | fruits &lt;chr&gt; | food &lt;chr&gt; | habitat &lt;chr&gt; |\n|---|---|---|---|---|\n| 1 | monkey | banana | insect | jungle |\n\n",
            "text/latex": "A data.frame: 1 × 4\n\\begin{tabular}{r|llll}\n  & names & fruits & food & habitat\\\\\n  & <chr> & <chr> & <chr> & <chr>\\\\\n\\hline\n\t1 & monkey & banana & insect & jungle\\\\\n\\end{tabular}\n",
            "text/plain": [
              "  names  fruits food   habitat\n",
              "1 monkey banana insect jungle "
            ]
          },
          "metadata": {}
        }
      ]
    },
    {
      "cell_type": "code",
      "source": [
        "animals[3,]"
      ],
      "metadata": {
        "colab": {
          "base_uri": "https://localhost:8080/",
          "height": 129
        },
        "id": "x81bZJ1tZgI6",
        "outputId": "a4a251d7-43ce-447e-e8bf-3cae33270b71"
      },
      "execution_count": 19,
      "outputs": [
        {
          "output_type": "display_data",
          "data": {
            "text/html": [
              "<table class=\"dataframe\">\n",
              "<caption>A data.frame: 1 × 4</caption>\n",
              "<thead>\n",
              "\t<tr><th></th><th scope=col>names</th><th scope=col>fruits</th><th scope=col>food</th><th scope=col>habitat</th></tr>\n",
              "\t<tr><th></th><th scope=col>&lt;chr&gt;</th><th scope=col>&lt;chr&gt;</th><th scope=col>&lt;chr&gt;</th><th scope=col>&lt;chr&gt;</th></tr>\n",
              "</thead>\n",
              "<tbody>\n",
              "\t<tr><th scope=row>3</th><td>bear</td><td>blueberry</td><td>fish</td><td>mountain</td></tr>\n",
              "</tbody>\n",
              "</table>\n"
            ],
            "text/markdown": "\nA data.frame: 1 × 4\n\n| <!--/--> | names &lt;chr&gt; | fruits &lt;chr&gt; | food &lt;chr&gt; | habitat &lt;chr&gt; |\n|---|---|---|---|---|\n| 3 | bear | blueberry | fish | mountain |\n\n",
            "text/latex": "A data.frame: 1 × 4\n\\begin{tabular}{r|llll}\n  & names & fruits & food & habitat\\\\\n  & <chr> & <chr> & <chr> & <chr>\\\\\n\\hline\n\t3 & bear & blueberry & fish & mountain\\\\\n\\end{tabular}\n",
            "text/plain": [
              "  names fruits    food habitat \n",
              "3 bear  blueberry fish mountain"
            ]
          },
          "metadata": {}
        }
      ]
    },
    {
      "cell_type": "code",
      "source": [
        "animals[5,]"
      ],
      "metadata": {
        "colab": {
          "base_uri": "https://localhost:8080/",
          "height": 129
        },
        "id": "YblLQnxIZxPT",
        "outputId": "b85cded7-d646-4e2a-a22b-471e0976cf07"
      },
      "execution_count": 20,
      "outputs": [
        {
          "output_type": "display_data",
          "data": {
            "text/html": [
              "<table class=\"dataframe\">\n",
              "<caption>A data.frame: 1 × 4</caption>\n",
              "<thead>\n",
              "\t<tr><th></th><th scope=col>names</th><th scope=col>fruits</th><th scope=col>food</th><th scope=col>habitat</th></tr>\n",
              "\t<tr><th></th><th scope=col>&lt;chr&gt;</th><th scope=col>&lt;chr&gt;</th><th scope=col>&lt;chr&gt;</th><th scope=col>&lt;chr&gt;</th></tr>\n",
              "</thead>\n",
              "<tbody>\n",
              "\t<tr><th scope=row>5</th><td>deer</td><td>apple</td><td>grass</td><td>meadows</td></tr>\n",
              "</tbody>\n",
              "</table>\n"
            ],
            "text/markdown": "\nA data.frame: 1 × 4\n\n| <!--/--> | names &lt;chr&gt; | fruits &lt;chr&gt; | food &lt;chr&gt; | habitat &lt;chr&gt; |\n|---|---|---|---|---|\n| 5 | deer | apple | grass | meadows |\n\n",
            "text/latex": "A data.frame: 1 × 4\n\\begin{tabular}{r|llll}\n  & names & fruits & food & habitat\\\\\n  & <chr> & <chr> & <chr> & <chr>\\\\\n\\hline\n\t5 & deer & apple & grass & meadows\\\\\n\\end{tabular}\n",
            "text/plain": [
              "  names fruits food  habitat\n",
              "5 deer  apple  grass meadows"
            ]
          },
          "metadata": {}
        }
      ]
    },
    {
      "cell_type": "code",
      "source": [
        "#access all fruits\n",
        "animals$fruits"
      ],
      "metadata": {
        "colab": {
          "base_uri": "https://localhost:8080/",
          "height": 34
        },
        "id": "bEFqwcQsaGzB",
        "outputId": "1c92d584-60a6-472a-f732-ca75807ade8f"
      },
      "execution_count": 22,
      "outputs": [
        {
          "output_type": "display_data",
          "data": {
            "text/html": [
              "<style>\n",
              ".list-inline {list-style: none; margin:0; padding: 0}\n",
              ".list-inline>li {display: inline-block}\n",
              ".list-inline>li:not(:last-child)::after {content: \"\\00b7\"; padding: 0 .5ex}\n",
              "</style>\n",
              "<ol class=list-inline><li>'banana'</li><li>'mango'</li><li>'blueberry'</li><li>'guava'</li><li>'apple'</li></ol>\n"
            ],
            "text/markdown": "1. 'banana'\n2. 'mango'\n3. 'blueberry'\n4. 'guava'\n5. 'apple'\n\n\n",
            "text/latex": "\\begin{enumerate*}\n\\item 'banana'\n\\item 'mango'\n\\item 'blueberry'\n\\item 'guava'\n\\item 'apple'\n\\end{enumerate*}\n",
            "text/plain": [
              "[1] \"banana\"    \"mango\"     \"blueberry\" \"guava\"     \"apple\"    "
            ]
          },
          "metadata": {}
        }
      ]
    },
    {
      "cell_type": "code",
      "source": [
        "#access all habitat\n",
        "animals$habitat"
      ],
      "metadata": {
        "colab": {
          "base_uri": "https://localhost:8080/",
          "height": 34
        },
        "id": "nW6choC3aFgm",
        "outputId": "3f7d5543-79e7-46de-b294-8433ae1722b0"
      },
      "execution_count": 23,
      "outputs": [
        {
          "output_type": "display_data",
          "data": {
            "text/html": [
              "<style>\n",
              ".list-inline {list-style: none; margin:0; padding: 0}\n",
              ".list-inline>li {display: inline-block}\n",
              ".list-inline>li:not(:last-child)::after {content: \"\\00b7\"; padding: 0 .5ex}\n",
              "</style>\n",
              "<ol class=list-inline><li>'jungle'</li><li>'savannah'</li><li>'mountain'</li><li>'forest'</li><li>'meadows'</li></ol>\n"
            ],
            "text/markdown": "1. 'jungle'\n2. 'savannah'\n3. 'mountain'\n4. 'forest'\n5. 'meadows'\n\n\n",
            "text/latex": "\\begin{enumerate*}\n\\item 'jungle'\n\\item 'savannah'\n\\item 'mountain'\n\\item 'forest'\n\\item 'meadows'\n\\end{enumerate*}\n",
            "text/plain": [
              "[1] \"jungle\"   \"savannah\" \"mountain\" \"forest\"   \"meadows\" "
            ]
          },
          "metadata": {}
        }
      ]
    }
  ]
}